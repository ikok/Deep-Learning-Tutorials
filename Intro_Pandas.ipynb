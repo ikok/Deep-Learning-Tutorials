{
 "cells": [
  {
   "cell_type": "code",
   "execution_count": 13,
   "metadata": {
    "collapsed": true
   },
   "outputs": [],
   "source": [
    "#pandas kütüphanesi import ediyoruz\n",
    "#importing dependency  \n",
    "import pandas as pd\n"
   ]
  },
  {
   "cell_type": "code",
   "execution_count": 16,
   "metadata": {
    "collapsed": false
   },
   "outputs": [],
   "source": [
    "#veriyi data frame aktarıyoruz\n",
    "#Load ing datas from local according to \n",
    "df=pd.read_csv('Datas/Pantest.csv', index_col='il')"
   ]
  },
  {
   "cell_type": "code",
   "execution_count": 17,
   "metadata": {
    "collapsed": false
   },
   "outputs": [
    {
     "data": {
      "text/html": [
       "<div>\n",
       "<table border=\"1\" class=\"dataframe\">\n",
       "  <thead>\n",
       "    <tr style=\"text-align: right;\">\n",
       "      <th></th>\n",
       "      <th>sİcaklİk</th>\n",
       "      <th>hacim</th>\n",
       "      <th>kisi</th>\n",
       "    </tr>\n",
       "    <tr>\n",
       "      <th>il</th>\n",
       "      <th></th>\n",
       "      <th></th>\n",
       "      <th></th>\n",
       "    </tr>\n",
       "  </thead>\n",
       "  <tbody>\n",
       "    <tr>\n",
       "      <th>ankara</th>\n",
       "      <td>5</td>\n",
       "      <td>1000</td>\n",
       "      <td>45000</td>\n",
       "    </tr>\n",
       "    <tr>\n",
       "      <th>maras</th>\n",
       "      <td>12</td>\n",
       "      <td>700</td>\n",
       "      <td>24000</td>\n",
       "    </tr>\n",
       "    <tr>\n",
       "      <th>konya</th>\n",
       "      <td>24</td>\n",
       "      <td>800</td>\n",
       "      <td>40000</td>\n",
       "    </tr>\n",
       "    <tr>\n",
       "      <th>sivas</th>\n",
       "      <td>11</td>\n",
       "      <td>600</td>\n",
       "      <td>22000</td>\n",
       "    </tr>\n",
       "    <tr>\n",
       "      <th>istanbul</th>\n",
       "      <td>12</td>\n",
       "      <td>20000</td>\n",
       "      <td>55000</td>\n",
       "    </tr>\n",
       "    <tr>\n",
       "      <th>İgdİr</th>\n",
       "      <td>45</td>\n",
       "      <td>500</td>\n",
       "      <td>7000</td>\n",
       "    </tr>\n",
       "    <tr>\n",
       "      <th>van</th>\n",
       "      <td>30</td>\n",
       "      <td>560</td>\n",
       "      <td>3500</td>\n",
       "    </tr>\n",
       "  </tbody>\n",
       "</table>\n",
       "</div>"
      ],
      "text/plain": [
       "          sİcaklİk  hacim   kisi\n",
       "il                              \n",
       "ankara           5   1000  45000\n",
       "maras           12    700  24000\n",
       "konya           24    800  40000\n",
       "sivas           11    600  22000\n",
       "istanbul        12  20000  55000\n",
       "İgdİr           45    500   7000\n",
       "van             30    560   3500"
      ]
     },
     "execution_count": 17,
     "metadata": {},
     "output_type": "execute_result"
    }
   ],
   "source": [
    "df"
   ]
  },
  {
   "cell_type": "code",
   "execution_count": 24,
   "metadata": {
    "collapsed": false
   },
   "outputs": [
    {
     "data": {
      "text/plain": [
       "24"
      ]
     },
     "execution_count": 24,
     "metadata": {},
     "output_type": "execute_result"
    }
   ],
   "source": [
    "#df['x ekseni']['y eksesi'] -- we get spesific transaction value from df\n",
    "df['sİcaklİk']['konya']\n"
   ]
  },
  {
   "cell_type": "code",
   "execution_count": 25,
   "metadata": {
    "collapsed": false
   },
   "outputs": [
    {
     "data": {
      "text/plain": [
       "560"
      ]
     },
     "execution_count": 25,
     "metadata": {},
     "output_type": "execute_result"
    }
   ],
   "source": [
    "df.hacim['van']"
   ]
  },
  {
   "cell_type": "markdown",
   "metadata": {},
   "source": [
    "LOC ve İLOC  komutu ile erişim (0 dan başladığını unutma)\n",
    "hem isimle \n",
    "hemde sayı değerleri kullanılanılabilir.\n",
    "\n",
    "df.loc ['satır','sütun']  "
   ]
  },
  {
   "cell_type": "code",
   "execution_count": 42,
   "metadata": {
    "collapsed": false
   },
   "outputs": [
    {
     "data": {
      "text/plain": [
       "55000"
      ]
     },
     "execution_count": 42,
     "metadata": {},
     "output_type": "execute_result"
    }
   ],
   "source": [
    "df.loc['istanbul','kisi']"
   ]
  },
  {
   "cell_type": "code",
   "execution_count": 35,
   "metadata": {
    "collapsed": false
   },
   "outputs": [
    {
     "data": {
      "text/plain": [
       "55000"
      ]
     },
     "execution_count": 35,
     "metadata": {},
     "output_type": "execute_result"
    }
   ],
   "source": [
    "df.iloc[4,2]"
   ]
  },
  {
   "cell_type": "markdown",
   "metadata": {},
   "source": [
    "Bazı sütunları seçerek işlem yapma\n",
    "çift köşeli parantez DATAFRAME e çevirme işlemi yapıyor"
   ]
  },
  {
   "cell_type": "code",
   "execution_count": 36,
   "metadata": {
    "collapsed": false
   },
   "outputs": [
    {
     "data": {
      "text/html": [
       "<div>\n",
       "<table border=\"1\" class=\"dataframe\">\n",
       "  <thead>\n",
       "    <tr style=\"text-align: right;\">\n",
       "      <th></th>\n",
       "      <th>kisi</th>\n",
       "      <th>hacim</th>\n",
       "    </tr>\n",
       "    <tr>\n",
       "      <th>il</th>\n",
       "      <th></th>\n",
       "      <th></th>\n",
       "    </tr>\n",
       "  </thead>\n",
       "  <tbody>\n",
       "    <tr>\n",
       "      <th>ankara</th>\n",
       "      <td>45000</td>\n",
       "      <td>1000</td>\n",
       "    </tr>\n",
       "    <tr>\n",
       "      <th>maras</th>\n",
       "      <td>24000</td>\n",
       "      <td>700</td>\n",
       "    </tr>\n",
       "    <tr>\n",
       "      <th>konya</th>\n",
       "      <td>40000</td>\n",
       "      <td>800</td>\n",
       "    </tr>\n",
       "    <tr>\n",
       "      <th>sivas</th>\n",
       "      <td>22000</td>\n",
       "      <td>600</td>\n",
       "    </tr>\n",
       "    <tr>\n",
       "      <th>istanbul</th>\n",
       "      <td>55000</td>\n",
       "      <td>20000</td>\n",
       "    </tr>\n",
       "    <tr>\n",
       "      <th>İgdİr</th>\n",
       "      <td>7000</td>\n",
       "      <td>500</td>\n",
       "    </tr>\n",
       "    <tr>\n",
       "      <th>van</th>\n",
       "      <td>3500</td>\n",
       "      <td>560</td>\n",
       "    </tr>\n",
       "  </tbody>\n",
       "</table>\n",
       "</div>"
      ],
      "text/plain": [
       "           kisi  hacim\n",
       "il                    \n",
       "ankara    45000   1000\n",
       "maras     24000    700\n",
       "konya     40000    800\n",
       "sivas     22000    600\n",
       "istanbul  55000  20000\n",
       "İgdİr      7000    500\n",
       "van        3500    560"
      ]
     },
     "execution_count": 36,
     "metadata": {},
     "output_type": "execute_result"
    }
   ],
   "source": [
    "df_new=df[['kisi','hacim']]\n",
    "df_new"
   ]
  },
  {
   "cell_type": "markdown",
   "metadata": {},
   "source": [
    "Belli aralıkta değer alma (Slicing and indexing a Series)"
   ]
  },
  {
   "cell_type": "code",
   "execution_count": 44,
   "metadata": {
    "collapsed": false
   },
   "outputs": [
    {
     "data": {
      "text/plain": [
       "il\n",
       "maras         700\n",
       "konya         800\n",
       "sivas         600\n",
       "istanbul    20000\n",
       "Name: hacim, dtype: int64"
      ]
     },
     "execution_count": 44,
     "metadata": {},
     "output_type": "execute_result"
    }
   ],
   "source": [
    "df_new['hacim'][1:5]  # 1 ile 5 aralığnı aldık "
   ]
  },
  {
   "cell_type": "code",
   "execution_count": 51,
   "metadata": {
    "collapsed": false
   },
   "outputs": [
    {
     "data": {
      "text/plain": [
       "700"
      ]
     },
     "execution_count": 51,
     "metadata": {},
     "output_type": "execute_result"
    }
   ],
   "source": [
    "df_new['hacim'][1]  # Değerini almak istediğimiz şehir için "
   ]
  },
  {
   "cell_type": "markdown",
   "metadata": {},
   "source": [
    "DATA FRAME slice lama\n",
    "\n",
    ".loc[ : ,  :  ]  \n",
    "\n",
    "birinci kısım tüm satırlar , yada seçmek istenilen satır başlangıç etiketi ve bitiş etiketi (bunlar arasındakileri alır) \n",
    "ikinci kısım tüm sütunlar yada belli satır ve sutun seçilebilir(seçilen sütünlar arasında kalan tüm sütunlar gelir).\n",
    "\n",
    ".iloc[ : ,  :  ]   yukardaki işlemleri rakamsal olarak yapmak için kullanılır"
   ]
  },
  {
   "cell_type": "code",
   "execution_count": 54,
   "metadata": {
    "collapsed": false
   },
   "outputs": [
    {
     "data": {
      "text/html": [
       "<div>\n",
       "<table border=\"1\" class=\"dataframe\">\n",
       "  <thead>\n",
       "    <tr style=\"text-align: right;\">\n",
       "      <th></th>\n",
       "      <th>hacim</th>\n",
       "      <th>kisi</th>\n",
       "    </tr>\n",
       "    <tr>\n",
       "      <th>il</th>\n",
       "      <th></th>\n",
       "      <th></th>\n",
       "    </tr>\n",
       "  </thead>\n",
       "  <tbody>\n",
       "    <tr>\n",
       "      <th>ankara</th>\n",
       "      <td>1000</td>\n",
       "      <td>45000</td>\n",
       "    </tr>\n",
       "    <tr>\n",
       "      <th>maras</th>\n",
       "      <td>700</td>\n",
       "      <td>24000</td>\n",
       "    </tr>\n",
       "    <tr>\n",
       "      <th>konya</th>\n",
       "      <td>800</td>\n",
       "      <td>40000</td>\n",
       "    </tr>\n",
       "    <tr>\n",
       "      <th>sivas</th>\n",
       "      <td>600</td>\n",
       "      <td>22000</td>\n",
       "    </tr>\n",
       "    <tr>\n",
       "      <th>istanbul</th>\n",
       "      <td>20000</td>\n",
       "      <td>55000</td>\n",
       "    </tr>\n",
       "    <tr>\n",
       "      <th>İgdİr</th>\n",
       "      <td>500</td>\n",
       "      <td>7000</td>\n",
       "    </tr>\n",
       "    <tr>\n",
       "      <th>van</th>\n",
       "      <td>560</td>\n",
       "      <td>3500</td>\n",
       "    </tr>\n",
       "  </tbody>\n",
       "</table>\n",
       "</div>"
      ],
      "text/plain": [
       "          hacim   kisi\n",
       "il                    \n",
       "ankara     1000  45000\n",
       "maras       700  24000\n",
       "konya       800  40000\n",
       "sivas       600  22000\n",
       "istanbul  20000  55000\n",
       "İgdİr       500   7000\n",
       "van         560   3500"
      ]
     },
     "execution_count": 54,
     "metadata": {},
     "output_type": "execute_result"
    }
   ],
   "source": [
    "df.loc[:,'hacim':'kisi']   #hacim ile kisi arasındaki tüm sütunları alır  df.iloc[:,1:3] "
   ]
  },
  {
   "cell_type": "code",
   "execution_count": 55,
   "metadata": {
    "collapsed": false
   },
   "outputs": [
    {
     "data": {
      "text/html": [
       "<div>\n",
       "<table border=\"1\" class=\"dataframe\">\n",
       "  <thead>\n",
       "    <tr style=\"text-align: right;\">\n",
       "      <th></th>\n",
       "      <th>sİcaklİk</th>\n",
       "      <th>hacim</th>\n",
       "      <th>kisi</th>\n",
       "    </tr>\n",
       "    <tr>\n",
       "      <th>il</th>\n",
       "      <th></th>\n",
       "      <th></th>\n",
       "      <th></th>\n",
       "    </tr>\n",
       "  </thead>\n",
       "  <tbody>\n",
       "    <tr>\n",
       "      <th>maras</th>\n",
       "      <td>12</td>\n",
       "      <td>700</td>\n",
       "      <td>24000</td>\n",
       "    </tr>\n",
       "    <tr>\n",
       "      <th>konya</th>\n",
       "      <td>24</td>\n",
       "      <td>800</td>\n",
       "      <td>40000</td>\n",
       "    </tr>\n",
       "    <tr>\n",
       "      <th>sivas</th>\n",
       "      <td>11</td>\n",
       "      <td>600</td>\n",
       "      <td>22000</td>\n",
       "    </tr>\n",
       "    <tr>\n",
       "      <th>istanbul</th>\n",
       "      <td>12</td>\n",
       "      <td>20000</td>\n",
       "      <td>55000</td>\n",
       "    </tr>\n",
       "  </tbody>\n",
       "</table>\n",
       "</div>"
      ],
      "text/plain": [
       "          sİcaklİk  hacim   kisi\n",
       "il                              \n",
       "maras           12    700  24000\n",
       "konya           24    800  40000\n",
       "sivas           11    600  22000\n",
       "istanbul        12  20000  55000"
      ]
     },
     "execution_count": 55,
     "metadata": {},
     "output_type": "execute_result"
    }
   ],
   "source": [
    "df.loc['maras':'istanbul',:]  # maras istanbul aralığındakileri getirir   df.iloc[1:5, :]"
   ]
  },
  {
   "cell_type": "code",
   "execution_count": 58,
   "metadata": {
    "collapsed": false
   },
   "outputs": [
    {
     "data": {
      "text/html": [
       "<div>\n",
       "<table border=\"1\" class=\"dataframe\">\n",
       "  <thead>\n",
       "    <tr style=\"text-align: right;\">\n",
       "      <th></th>\n",
       "      <th>hacim</th>\n",
       "      <th>kisi</th>\n",
       "    </tr>\n",
       "    <tr>\n",
       "      <th>il</th>\n",
       "      <th></th>\n",
       "      <th></th>\n",
       "    </tr>\n",
       "  </thead>\n",
       "  <tbody>\n",
       "    <tr>\n",
       "      <th>ankara</th>\n",
       "      <td>1000</td>\n",
       "      <td>45000</td>\n",
       "    </tr>\n",
       "    <tr>\n",
       "      <th>maras</th>\n",
       "      <td>700</td>\n",
       "      <td>24000</td>\n",
       "    </tr>\n",
       "    <tr>\n",
       "      <th>konya</th>\n",
       "      <td>800</td>\n",
       "      <td>40000</td>\n",
       "    </tr>\n",
       "    <tr>\n",
       "      <th>sivas</th>\n",
       "      <td>600</td>\n",
       "      <td>22000</td>\n",
       "    </tr>\n",
       "    <tr>\n",
       "      <th>istanbul</th>\n",
       "      <td>20000</td>\n",
       "      <td>55000</td>\n",
       "    </tr>\n",
       "    <tr>\n",
       "      <th>İgdİr</th>\n",
       "      <td>500</td>\n",
       "      <td>7000</td>\n",
       "    </tr>\n",
       "    <tr>\n",
       "      <th>van</th>\n",
       "      <td>560</td>\n",
       "      <td>3500</td>\n",
       "    </tr>\n",
       "  </tbody>\n",
       "</table>\n",
       "</div>"
      ],
      "text/plain": [
       "          hacim   kisi\n",
       "il                    \n",
       "ankara     1000  45000\n",
       "maras       700  24000\n",
       "konya       800  40000\n",
       "sivas       600  22000\n",
       "istanbul  20000  55000\n",
       "İgdİr       500   7000\n",
       "van         560   3500"
      ]
     },
     "execution_count": 58,
     "metadata": {},
     "output_type": "execute_result"
    }
   ],
   "source": [
    "df.iloc[:,1:3] "
   ]
  },
  {
   "cell_type": "code",
   "execution_count": 60,
   "metadata": {
    "collapsed": false
   },
   "outputs": [
    {
     "data": {
      "text/html": [
       "<div>\n",
       "<table border=\"1\" class=\"dataframe\">\n",
       "  <thead>\n",
       "    <tr style=\"text-align: right;\">\n",
       "      <th></th>\n",
       "      <th>sİcaklİk</th>\n",
       "      <th>hacim</th>\n",
       "      <th>kisi</th>\n",
       "    </tr>\n",
       "    <tr>\n",
       "      <th>il</th>\n",
       "      <th></th>\n",
       "      <th></th>\n",
       "      <th></th>\n",
       "    </tr>\n",
       "  </thead>\n",
       "  <tbody>\n",
       "    <tr>\n",
       "      <th>maras</th>\n",
       "      <td>12</td>\n",
       "      <td>700</td>\n",
       "      <td>24000</td>\n",
       "    </tr>\n",
       "    <tr>\n",
       "      <th>konya</th>\n",
       "      <td>24</td>\n",
       "      <td>800</td>\n",
       "      <td>40000</td>\n",
       "    </tr>\n",
       "    <tr>\n",
       "      <th>sivas</th>\n",
       "      <td>11</td>\n",
       "      <td>600</td>\n",
       "      <td>22000</td>\n",
       "    </tr>\n",
       "    <tr>\n",
       "      <th>istanbul</th>\n",
       "      <td>12</td>\n",
       "      <td>20000</td>\n",
       "      <td>55000</td>\n",
       "    </tr>\n",
       "  </tbody>\n",
       "</table>\n",
       "</div>"
      ],
      "text/plain": [
       "          sİcaklİk  hacim   kisi\n",
       "il                              \n",
       "maras           12    700  24000\n",
       "konya           24    800  40000\n",
       "sivas           11    600  22000\n",
       "istanbul        12  20000  55000"
      ]
     },
     "execution_count": 60,
     "metadata": {},
     "output_type": "execute_result"
    }
   ],
   "source": [
    "df.iloc[1:5, :]"
   ]
  },
  {
   "cell_type": "markdown",
   "metadata": {},
   "source": [
    "Slice yerine list olarakta alınabilir, ikinci kısma dikkat\n",
    "\n"
   ]
  },
  {
   "cell_type": "code",
   "execution_count": 62,
   "metadata": {
    "collapsed": false
   },
   "outputs": [
    {
     "data": {
      "text/html": [
       "<div>\n",
       "<table border=\"1\" class=\"dataframe\">\n",
       "  <thead>\n",
       "    <tr style=\"text-align: right;\">\n",
       "      <th></th>\n",
       "      <th>hacim</th>\n",
       "      <th>kisi</th>\n",
       "    </tr>\n",
       "    <tr>\n",
       "      <th>il</th>\n",
       "      <th></th>\n",
       "      <th></th>\n",
       "    </tr>\n",
       "  </thead>\n",
       "  <tbody>\n",
       "    <tr>\n",
       "      <th>ankara</th>\n",
       "      <td>1000</td>\n",
       "      <td>45000</td>\n",
       "    </tr>\n",
       "    <tr>\n",
       "      <th>maras</th>\n",
       "      <td>700</td>\n",
       "      <td>24000</td>\n",
       "    </tr>\n",
       "    <tr>\n",
       "      <th>konya</th>\n",
       "      <td>800</td>\n",
       "      <td>40000</td>\n",
       "    </tr>\n",
       "    <tr>\n",
       "      <th>sivas</th>\n",
       "      <td>600</td>\n",
       "      <td>22000</td>\n",
       "    </tr>\n",
       "    <tr>\n",
       "      <th>istanbul</th>\n",
       "      <td>20000</td>\n",
       "      <td>55000</td>\n",
       "    </tr>\n",
       "  </tbody>\n",
       "</table>\n",
       "</div>"
      ],
      "text/plain": [
       "          hacim   kisi\n",
       "il                    \n",
       "ankara     1000  45000\n",
       "maras       700  24000\n",
       "konya       800  40000\n",
       "sivas       600  22000\n",
       "istanbul  20000  55000"
      ]
     },
     "execution_count": 62,
     "metadata": {},
     "output_type": "execute_result"
    }
   ],
   "source": [
    "df.loc['ankara':'istanbul' ,['hacim','kisi']]"
   ]
  },
  {
   "cell_type": "markdown",
   "metadata": {},
   "source": [
    "Series 1 boyutlu etiketlenmiş veri iken\n",
    "Frame ise farklı boyutlarda olabilir. "
   ]
  },
  {
   "cell_type": "code",
   "execution_count": 69,
   "metadata": {
    "collapsed": false
   },
   "outputs": [],
   "source": [
    "vv=df.hacim>600  # hacmi 600 den büyük olanları seçtik\n"
   ]
  },
  {
   "cell_type": "code",
   "execution_count": 70,
   "metadata": {
    "collapsed": false
   },
   "outputs": [
    {
     "data": {
      "text/html": [
       "<div>\n",
       "<table border=\"1\" class=\"dataframe\">\n",
       "  <thead>\n",
       "    <tr style=\"text-align: right;\">\n",
       "      <th></th>\n",
       "      <th>sİcaklİk</th>\n",
       "      <th>hacim</th>\n",
       "      <th>kisi</th>\n",
       "    </tr>\n",
       "    <tr>\n",
       "      <th>il</th>\n",
       "      <th></th>\n",
       "      <th></th>\n",
       "      <th></th>\n",
       "    </tr>\n",
       "  </thead>\n",
       "  <tbody>\n",
       "    <tr>\n",
       "      <th>ankara</th>\n",
       "      <td>5</td>\n",
       "      <td>1000</td>\n",
       "      <td>45000</td>\n",
       "    </tr>\n",
       "    <tr>\n",
       "      <th>maras</th>\n",
       "      <td>12</td>\n",
       "      <td>700</td>\n",
       "      <td>24000</td>\n",
       "    </tr>\n",
       "    <tr>\n",
       "      <th>konya</th>\n",
       "      <td>24</td>\n",
       "      <td>800</td>\n",
       "      <td>40000</td>\n",
       "    </tr>\n",
       "    <tr>\n",
       "      <th>istanbul</th>\n",
       "      <td>12</td>\n",
       "      <td>20000</td>\n",
       "      <td>55000</td>\n",
       "    </tr>\n",
       "  </tbody>\n",
       "</table>\n",
       "</div>"
      ],
      "text/plain": [
       "          sİcaklİk  hacim   kisi\n",
       "il                              \n",
       "ankara           5   1000  45000\n",
       "maras           12    700  24000\n",
       "konya           24    800  40000\n",
       "istanbul        12  20000  55000"
      ]
     },
     "execution_count": 70,
     "metadata": {},
     "output_type": "execute_result"
    }
   ],
   "source": [
    "df[vv]"
   ]
  },
  {
   "cell_type": "code",
   "execution_count": 71,
   "metadata": {
    "collapsed": false
   },
   "outputs": [
    {
     "data": {
      "text/html": [
       "<div>\n",
       "<table border=\"1\" class=\"dataframe\">\n",
       "  <thead>\n",
       "    <tr style=\"text-align: right;\">\n",
       "      <th></th>\n",
       "      <th>sİcaklİk</th>\n",
       "      <th>hacim</th>\n",
       "      <th>kisi</th>\n",
       "    </tr>\n",
       "    <tr>\n",
       "      <th>il</th>\n",
       "      <th></th>\n",
       "      <th></th>\n",
       "      <th></th>\n",
       "    </tr>\n",
       "  </thead>\n",
       "  <tbody>\n",
       "    <tr>\n",
       "      <th>ankara</th>\n",
       "      <td>5</td>\n",
       "      <td>1000</td>\n",
       "      <td>45000</td>\n",
       "    </tr>\n",
       "    <tr>\n",
       "      <th>konya</th>\n",
       "      <td>24</td>\n",
       "      <td>800</td>\n",
       "      <td>40000</td>\n",
       "    </tr>\n",
       "    <tr>\n",
       "      <th>istanbul</th>\n",
       "      <td>12</td>\n",
       "      <td>20000</td>\n",
       "      <td>55000</td>\n",
       "    </tr>\n",
       "  </tbody>\n",
       "</table>\n",
       "</div>"
      ],
      "text/plain": [
       "          sİcaklİk  hacim   kisi\n",
       "il                              \n",
       "ankara           5   1000  45000\n",
       "konya           24    800  40000\n",
       "istanbul        12  20000  55000"
      ]
     },
     "execution_count": 71,
     "metadata": {},
     "output_type": "execute_result"
    }
   ],
   "source": [
    "#mantıksal işlemlerde yapılabilir.\n",
    "df[(df.hacim>600) & (df.kisi>25000)]   # hacmi 600 den büyük ve kisi sayısı 25 000 den fazla olan illeri getir"
   ]
  },
  {
   "cell_type": "markdown",
   "metadata": {},
   "source": [
    "Verimiz üzerinde işlem yapmak için yeni bir Dataframe oluşturalım. kopyasını alarak"
   ]
  },
  {
   "cell_type": "code",
   "execution_count": 73,
   "metadata": {
    "collapsed": false
   },
   "outputs": [],
   "source": [
    "df1=df.copy()\n"
   ]
  },
  {
   "cell_type": "code",
   "execution_count": 78,
   "metadata": {
    "collapsed": false
   },
   "outputs": [],
   "source": [
    "df1['gsüre']=[0,0,50,60,80,'NaN',45]"
   ]
  },
  {
   "cell_type": "code",
   "execution_count": 79,
   "metadata": {
    "collapsed": false
   },
   "outputs": [
    {
     "data": {
      "text/html": [
       "<div>\n",
       "<table border=\"1\" class=\"dataframe\">\n",
       "  <thead>\n",
       "    <tr style=\"text-align: right;\">\n",
       "      <th></th>\n",
       "      <th>sİcaklİk</th>\n",
       "      <th>hacim</th>\n",
       "      <th>kisi</th>\n",
       "      <th>gsüre</th>\n",
       "    </tr>\n",
       "    <tr>\n",
       "      <th>il</th>\n",
       "      <th></th>\n",
       "      <th></th>\n",
       "      <th></th>\n",
       "      <th></th>\n",
       "    </tr>\n",
       "  </thead>\n",
       "  <tbody>\n",
       "    <tr>\n",
       "      <th>ankara</th>\n",
       "      <td>5</td>\n",
       "      <td>1000</td>\n",
       "      <td>45000</td>\n",
       "      <td>0</td>\n",
       "    </tr>\n",
       "    <tr>\n",
       "      <th>maras</th>\n",
       "      <td>12</td>\n",
       "      <td>700</td>\n",
       "      <td>24000</td>\n",
       "      <td>0</td>\n",
       "    </tr>\n",
       "    <tr>\n",
       "      <th>konya</th>\n",
       "      <td>24</td>\n",
       "      <td>800</td>\n",
       "      <td>40000</td>\n",
       "      <td>50</td>\n",
       "    </tr>\n",
       "    <tr>\n",
       "      <th>sivas</th>\n",
       "      <td>11</td>\n",
       "      <td>600</td>\n",
       "      <td>22000</td>\n",
       "      <td>60</td>\n",
       "    </tr>\n",
       "    <tr>\n",
       "      <th>istanbul</th>\n",
       "      <td>12</td>\n",
       "      <td>20000</td>\n",
       "      <td>55000</td>\n",
       "      <td>80</td>\n",
       "    </tr>\n",
       "    <tr>\n",
       "      <th>İgdİr</th>\n",
       "      <td>45</td>\n",
       "      <td>500</td>\n",
       "      <td>7000</td>\n",
       "      <td>NaN</td>\n",
       "    </tr>\n",
       "    <tr>\n",
       "      <th>van</th>\n",
       "      <td>30</td>\n",
       "      <td>560</td>\n",
       "      <td>3500</td>\n",
       "      <td>45</td>\n",
       "    </tr>\n",
       "  </tbody>\n",
       "</table>\n",
       "</div>"
      ],
      "text/plain": [
       "          sİcaklİk  hacim   kisi gsüre\n",
       "il                                    \n",
       "ankara           5   1000  45000     0\n",
       "maras           12    700  24000     0\n",
       "konya           24    800  40000    50\n",
       "sivas           11    600  22000    60\n",
       "istanbul        12  20000  55000    80\n",
       "İgdİr           45    500   7000   NaN\n",
       "van             30    560   3500    45"
      ]
     },
     "execution_count": 79,
     "metadata": {},
     "output_type": "execute_result"
    }
   ],
   "source": [
    "df1"
   ]
  },
  {
   "cell_type": "markdown",
   "metadata": {},
   "source": [
    "veri de 0 ve NAN değerlerini ayıklamak gerekir. bu işlemler için"
   ]
  },
  {
   "cell_type": "code",
   "execution_count": 85,
   "metadata": {
    "collapsed": false
   },
   "outputs": [
    {
     "data": {
      "text/html": [
       "<div>\n",
       "<table border=\"1\" class=\"dataframe\">\n",
       "  <thead>\n",
       "    <tr style=\"text-align: right;\">\n",
       "      <th></th>\n",
       "      <th>sİcaklİk</th>\n",
       "      <th>hacim</th>\n",
       "      <th>kisi</th>\n",
       "    </tr>\n",
       "    <tr>\n",
       "      <th>il</th>\n",
       "      <th></th>\n",
       "      <th></th>\n",
       "      <th></th>\n",
       "    </tr>\n",
       "  </thead>\n",
       "  <tbody>\n",
       "    <tr>\n",
       "      <th>ankara</th>\n",
       "      <td>5</td>\n",
       "      <td>1000</td>\n",
       "      <td>45000</td>\n",
       "    </tr>\n",
       "    <tr>\n",
       "      <th>maras</th>\n",
       "      <td>12</td>\n",
       "      <td>700</td>\n",
       "      <td>24000</td>\n",
       "    </tr>\n",
       "    <tr>\n",
       "      <th>konya</th>\n",
       "      <td>24</td>\n",
       "      <td>800</td>\n",
       "      <td>40000</td>\n",
       "    </tr>\n",
       "    <tr>\n",
       "      <th>sivas</th>\n",
       "      <td>11</td>\n",
       "      <td>600</td>\n",
       "      <td>22000</td>\n",
       "    </tr>\n",
       "    <tr>\n",
       "      <th>istanbul</th>\n",
       "      <td>12</td>\n",
       "      <td>20000</td>\n",
       "      <td>55000</td>\n",
       "    </tr>\n",
       "    <tr>\n",
       "      <th>İgdİr</th>\n",
       "      <td>45</td>\n",
       "      <td>500</td>\n",
       "      <td>7000</td>\n",
       "    </tr>\n",
       "    <tr>\n",
       "      <th>van</th>\n",
       "      <td>30</td>\n",
       "      <td>560</td>\n",
       "      <td>3500</td>\n",
       "    </tr>\n",
       "  </tbody>\n",
       "</table>\n",
       "</div>"
      ],
      "text/plain": [
       "          sİcaklİk  hacim   kisi\n",
       "il                              \n",
       "ankara           5   1000  45000\n",
       "maras           12    700  24000\n",
       "konya           24    800  40000\n",
       "sivas           11    600  22000\n",
       "istanbul        12  20000  55000\n",
       "İgdİr           45    500   7000\n",
       "van             30    560   3500"
      ]
     },
     "execution_count": 85,
     "metadata": {},
     "output_type": "execute_result"
    }
   ],
   "source": [
    "df1.loc[ : , df1.all()]  # 0 içeren tüm kolonu dışarda bırakır"
   ]
  },
  {
   "cell_type": "code",
   "execution_count": 86,
   "metadata": {
    "collapsed": false
   },
   "outputs": [
    {
     "data": {
      "text/html": [
       "<div>\n",
       "<table border=\"1\" class=\"dataframe\">\n",
       "  <thead>\n",
       "    <tr style=\"text-align: right;\">\n",
       "      <th></th>\n",
       "      <th>sİcaklİk</th>\n",
       "      <th>hacim</th>\n",
       "      <th>kisi</th>\n",
       "      <th>gsüre</th>\n",
       "    </tr>\n",
       "    <tr>\n",
       "      <th>il</th>\n",
       "      <th></th>\n",
       "      <th></th>\n",
       "      <th></th>\n",
       "      <th></th>\n",
       "    </tr>\n",
       "  </thead>\n",
       "  <tbody>\n",
       "    <tr>\n",
       "      <th>ankara</th>\n",
       "      <td>5</td>\n",
       "      <td>1000</td>\n",
       "      <td>45000</td>\n",
       "      <td>0</td>\n",
       "    </tr>\n",
       "    <tr>\n",
       "      <th>maras</th>\n",
       "      <td>12</td>\n",
       "      <td>700</td>\n",
       "      <td>24000</td>\n",
       "      <td>0</td>\n",
       "    </tr>\n",
       "    <tr>\n",
       "      <th>konya</th>\n",
       "      <td>24</td>\n",
       "      <td>800</td>\n",
       "      <td>40000</td>\n",
       "      <td>50</td>\n",
       "    </tr>\n",
       "    <tr>\n",
       "      <th>sivas</th>\n",
       "      <td>11</td>\n",
       "      <td>600</td>\n",
       "      <td>22000</td>\n",
       "      <td>60</td>\n",
       "    </tr>\n",
       "    <tr>\n",
       "      <th>istanbul</th>\n",
       "      <td>12</td>\n",
       "      <td>20000</td>\n",
       "      <td>55000</td>\n",
       "      <td>80</td>\n",
       "    </tr>\n",
       "    <tr>\n",
       "      <th>İgdİr</th>\n",
       "      <td>45</td>\n",
       "      <td>500</td>\n",
       "      <td>7000</td>\n",
       "      <td>NaN</td>\n",
       "    </tr>\n",
       "    <tr>\n",
       "      <th>van</th>\n",
       "      <td>30</td>\n",
       "      <td>560</td>\n",
       "      <td>3500</td>\n",
       "      <td>45</td>\n",
       "    </tr>\n",
       "  </tbody>\n",
       "</table>\n",
       "</div>"
      ],
      "text/plain": [
       "          sİcaklİk  hacim   kisi gsüre\n",
       "il                                    \n",
       "ankara           5   1000  45000     0\n",
       "maras           12    700  24000     0\n",
       "konya           24    800  40000    50\n",
       "sivas           11    600  22000    60\n",
       "istanbul        12  20000  55000    80\n",
       "İgdİr           45    500   7000   NaN\n",
       "van             30    560   3500    45"
      ]
     },
     "execution_count": 86,
     "metadata": {},
     "output_type": "execute_result"
    }
   ],
   "source": [
    "df1.loc[ : , df1.any()]"
   ]
  },
  {
   "cell_type": "code",
   "execution_count": 88,
   "metadata": {
    "collapsed": false
   },
   "outputs": [
    {
     "data": {
      "text/html": [
       "<div>\n",
       "<table border=\"1\" class=\"dataframe\">\n",
       "  <thead>\n",
       "    <tr style=\"text-align: right;\">\n",
       "      <th></th>\n",
       "      <th>sİcaklİk</th>\n",
       "      <th>hacim</th>\n",
       "      <th>kisi</th>\n",
       "      <th>gsüre</th>\n",
       "    </tr>\n",
       "    <tr>\n",
       "      <th>il</th>\n",
       "      <th></th>\n",
       "      <th></th>\n",
       "      <th></th>\n",
       "      <th></th>\n",
       "    </tr>\n",
       "  </thead>\n",
       "  <tbody>\n",
       "    <tr>\n",
       "      <th>ankara</th>\n",
       "      <td>5</td>\n",
       "      <td>1000</td>\n",
       "      <td>45000</td>\n",
       "      <td>0</td>\n",
       "    </tr>\n",
       "    <tr>\n",
       "      <th>maras</th>\n",
       "      <td>12</td>\n",
       "      <td>700</td>\n",
       "      <td>24000</td>\n",
       "      <td>0</td>\n",
       "    </tr>\n",
       "    <tr>\n",
       "      <th>konya</th>\n",
       "      <td>24</td>\n",
       "      <td>800</td>\n",
       "      <td>40000</td>\n",
       "      <td>50</td>\n",
       "    </tr>\n",
       "    <tr>\n",
       "      <th>sivas</th>\n",
       "      <td>11</td>\n",
       "      <td>600</td>\n",
       "      <td>22000</td>\n",
       "      <td>60</td>\n",
       "    </tr>\n",
       "    <tr>\n",
       "      <th>istanbul</th>\n",
       "      <td>12</td>\n",
       "      <td>20000</td>\n",
       "      <td>55000</td>\n",
       "      <td>80</td>\n",
       "    </tr>\n",
       "    <tr>\n",
       "      <th>İgdİr</th>\n",
       "      <td>45</td>\n",
       "      <td>500</td>\n",
       "      <td>7000</td>\n",
       "      <td>NaN</td>\n",
       "    </tr>\n",
       "    <tr>\n",
       "      <th>van</th>\n",
       "      <td>30</td>\n",
       "      <td>560</td>\n",
       "      <td>3500</td>\n",
       "      <td>45</td>\n",
       "    </tr>\n",
       "  </tbody>\n",
       "</table>\n",
       "</div>"
      ],
      "text/plain": [
       "          sİcaklİk  hacim   kisi gsüre\n",
       "il                                    \n",
       "ankara           5   1000  45000     0\n",
       "maras           12    700  24000     0\n",
       "konya           24    800  40000    50\n",
       "sivas           11    600  22000    60\n",
       "istanbul        12  20000  55000    80\n",
       "İgdİr           45    500   7000   NaN\n",
       "van             30    560   3500    45"
      ]
     },
     "execution_count": 88,
     "metadata": {},
     "output_type": "execute_result"
    }
   ],
   "source": [
    "df1.dropna(how='any')"
   ]
  },
  {
   "cell_type": "code",
   "execution_count": null,
   "metadata": {
    "collapsed": true
   },
   "outputs": [],
   "source": []
  }
 ],
 "metadata": {
  "kernelspec": {
   "display_name": "Python 3",
   "language": "python",
   "name": "python3"
  },
  "language_info": {
   "codemirror_mode": {
    "name": "ipython",
    "version": 3
   },
   "file_extension": ".py",
   "mimetype": "text/x-python",
   "name": "python",
   "nbconvert_exporter": "python",
   "pygments_lexer": "ipython3",
   "version": "3.6.0"
  }
 },
 "nbformat": 4,
 "nbformat_minor": 2
}
